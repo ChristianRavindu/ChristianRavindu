{
  "nbformat": 4,
  "nbformat_minor": 0,
  "metadata": {
    "colab": {
      "provenance": [],
      "authorship_tag": "ABX9TyO6APgzCvDu5zmqeF3+I8oq",
      "include_colab_link": true
    },
    "kernelspec": {
      "name": "python3",
      "display_name": "Python 3"
    },
    "language_info": {
      "name": "python"
    }
  },
  "cells": [
    {
      "cell_type": "markdown",
      "metadata": {
        "id": "view-in-github",
        "colab_type": "text"
      },
      "source": [
        "<a href=\"https://colab.research.google.com/github/ChristianRavindu/ChristianRavindu/blob/main/Phising_Email_New_DS.ipynb\" target=\"_parent\"><img src=\"https://colab.research.google.com/assets/colab-badge.svg\" alt=\"Open In Colab\"/></a>"
      ]
    },
    {
      "cell_type": "code",
      "execution_count": 2,
      "metadata": {
        "colab": {
          "base_uri": "https://localhost:8080/"
        },
        "id": "qsInpQsLG2sb",
        "outputId": "57ef2ec3-8999-4cfa-9ace-5a9e0cc9bf46"
      },
      "outputs": [
        {
          "output_type": "stream",
          "name": "stdout",
          "text": [
            "Mounted at /content/drive\n"
          ]
        }
      ],
      "source": [
        "from google.colab import drive\n",
        "drive.mount('/content/drive')"
      ]
    },
    {
      "cell_type": "code",
      "source": [
        "import pandas as pd\n",
        "import numpy as np\n",
        "import matplotlib.pyplot as plt\n",
        "import seaborn as sns\n",
        "from sklearn.model_selection import train_test_split\n",
        "from sklearn.ensemble import RandomForestClassifier\n",
        "from sklearn.metrics import classification_report, confusion_matrix\n",
        "from sklearn.preprocessing import LabelEncoder\n",
        "\n",
        "# Load the phishing dataset\n",
        "phishing_data = pd.read_csv('/content/drive/MyDrive/DA/DA Assignment/Phishing_Email_Dataset_Ucl.csv')\n",
        "\n",
        "# Display basic info to understand structure\n",
        "phishing_data.info()\n",
        "phishing_data.head()\n"
      ],
      "metadata": {
        "colab": {
          "base_uri": "https://localhost:8080/",
          "height": 1000
        },
        "id": "xH3aiTvmIAkh",
        "outputId": "be9ae3e8-3a75-42cd-8474-8be73d457141"
      },
      "execution_count": 3,
      "outputs": [
        {
          "output_type": "stream",
          "name": "stdout",
          "text": [
            "<class 'pandas.core.frame.DataFrame'>\n",
            "RangeIndex: 520 entries, 0 to 519\n",
            "Data columns (total 16 columns):\n",
            " #   Column               Non-Null Count  Dtype \n",
            "---  ------               --------------  ----- \n",
            " 0   Email ID             497 non-null    object\n",
            " 1   Timestamp            511 non-null    object\n",
            " 2   Sender Email         500 non-null    object\n",
            " 3   Recipient Email      500 non-null    object\n",
            " 4   Subject              500 non-null    object\n",
            " 5   Email Body           498 non-null    object\n",
            " 6   Label                506 non-null    object\n",
            " 7   IP Address           511 non-null    object\n",
            " 8   Location             494 non-null    object\n",
            " 9   Sender Domain        500 non-null    object\n",
            " 10  Recipient Domain     500 non-null    object\n",
            " 11  Email Length         512 non-null    object\n",
            " 12  Attachments          504 non-null    object\n",
            " 13  Link Count           507 non-null    object\n",
            " 14  Suspicious Keywords  520 non-null    object\n",
            " 15  Sector               499 non-null    object\n",
            "dtypes: object(16)\n",
            "memory usage: 65.1+ KB\n"
          ]
        },
        {
          "output_type": "execute_result",
          "data": {
            "text/plain": [
              "                               Email ID Timestamp            Sender Email  \\\n",
              "0  bd510c2e-e9ea-432c-a171-6a83b79e65d7   32:22.4   otyler@protonmail.com   \n",
              "1  73dfe436-8485-49f0-9635-8538046c6295   36:26.4    nicole77@outlook.com   \n",
              "2  2aad94e0-da9b-437c-be61-49667db5d762   06:52.9  daniellesoto@gmail.com   \n",
              "3  b4fca1ca-22af-4f15-bfee-e7d7adf159e3   27:21.0    mathissean@yahoo.com   \n",
              "4  4a3461a1-6535-42ce-991d-13adf28b8e52   34:03.8    morrishannah@aol.com   \n",
              "\n",
              "            Recipient Email                                       Subject  \\\n",
              "0  sarahkemp@protonmail.com  National man although for sell thought star.   \n",
              "1          pkelly@yahoo.com   World matter eat year agent soldier energy.   \n",
              "2   mferrell@protonmail.com              Financial responsibility attack.   \n",
              "3     patrickgarcia@aol.com        Night show either various group young.   \n",
              "4        vchavez@icloud.com                                         Error   \n",
              "\n",
              "                                          Email Body       Label  \\\n",
              "0  Indeed government born happen. Realize last be...  Legitimate   \n",
              "1  Over treatment agree contain style. Hospital c...    Phishing   \n",
              "2  Lose offer create develop well apply today mou...    Phishing   \n",
              "3  Discuss offer method. Memory while make. Amoun...    Phishing   \n",
              "4  Movie kitchen health kind which policy. Civil ...    Phishing   \n",
              "\n",
              "        IP Address             Location   Sender Domain Recipient Domain  \\\n",
              "0  208.190.144.153             Juantown  protonmail.com   protonmail.com   \n",
              "1      8.210.9.207           New Justin     outlook.com        yahoo.com   \n",
              "2     59.219.62.29            Knoxville       gmail.com   protonmail.com   \n",
              "3     213.99.88.75       East Andreaton       yahoo.com          aol.com   \n",
              "4   90.196.229.178  South Elizabethbury         aol.com       icloud.com   \n",
              "\n",
              "  Email Length Attachments Link Count Suspicious Keywords      Sector  \n",
              "0           96           2          6       click, urgent  Healthcare  \n",
              "1          222           1          4       click, secure      Retail  \n",
              "2          132           2          0             confirm       Error  \n",
              "3          119           2          0     account, update      Retail  \n",
              "4          132           2          7      urgent, verify      Retail  "
            ],
            "text/html": [
              "\n",
              "  <div id=\"df-84d45f3f-e3d1-4c76-9649-9f9de1bc6233\" class=\"colab-df-container\">\n",
              "    <div>\n",
              "<style scoped>\n",
              "    .dataframe tbody tr th:only-of-type {\n",
              "        vertical-align: middle;\n",
              "    }\n",
              "\n",
              "    .dataframe tbody tr th {\n",
              "        vertical-align: top;\n",
              "    }\n",
              "\n",
              "    .dataframe thead th {\n",
              "        text-align: right;\n",
              "    }\n",
              "</style>\n",
              "<table border=\"1\" class=\"dataframe\">\n",
              "  <thead>\n",
              "    <tr style=\"text-align: right;\">\n",
              "      <th></th>\n",
              "      <th>Email ID</th>\n",
              "      <th>Timestamp</th>\n",
              "      <th>Sender Email</th>\n",
              "      <th>Recipient Email</th>\n",
              "      <th>Subject</th>\n",
              "      <th>Email Body</th>\n",
              "      <th>Label</th>\n",
              "      <th>IP Address</th>\n",
              "      <th>Location</th>\n",
              "      <th>Sender Domain</th>\n",
              "      <th>Recipient Domain</th>\n",
              "      <th>Email Length</th>\n",
              "      <th>Attachments</th>\n",
              "      <th>Link Count</th>\n",
              "      <th>Suspicious Keywords</th>\n",
              "      <th>Sector</th>\n",
              "    </tr>\n",
              "  </thead>\n",
              "  <tbody>\n",
              "    <tr>\n",
              "      <th>0</th>\n",
              "      <td>bd510c2e-e9ea-432c-a171-6a83b79e65d7</td>\n",
              "      <td>32:22.4</td>\n",
              "      <td>otyler@protonmail.com</td>\n",
              "      <td>sarahkemp@protonmail.com</td>\n",
              "      <td>National man although for sell thought star.</td>\n",
              "      <td>Indeed government born happen. Realize last be...</td>\n",
              "      <td>Legitimate</td>\n",
              "      <td>208.190.144.153</td>\n",
              "      <td>Juantown</td>\n",
              "      <td>protonmail.com</td>\n",
              "      <td>protonmail.com</td>\n",
              "      <td>96</td>\n",
              "      <td>2</td>\n",
              "      <td>6</td>\n",
              "      <td>click, urgent</td>\n",
              "      <td>Healthcare</td>\n",
              "    </tr>\n",
              "    <tr>\n",
              "      <th>1</th>\n",
              "      <td>73dfe436-8485-49f0-9635-8538046c6295</td>\n",
              "      <td>36:26.4</td>\n",
              "      <td>nicole77@outlook.com</td>\n",
              "      <td>pkelly@yahoo.com</td>\n",
              "      <td>World matter eat year agent soldier energy.</td>\n",
              "      <td>Over treatment agree contain style. Hospital c...</td>\n",
              "      <td>Phishing</td>\n",
              "      <td>8.210.9.207</td>\n",
              "      <td>New Justin</td>\n",
              "      <td>outlook.com</td>\n",
              "      <td>yahoo.com</td>\n",
              "      <td>222</td>\n",
              "      <td>1</td>\n",
              "      <td>4</td>\n",
              "      <td>click, secure</td>\n",
              "      <td>Retail</td>\n",
              "    </tr>\n",
              "    <tr>\n",
              "      <th>2</th>\n",
              "      <td>2aad94e0-da9b-437c-be61-49667db5d762</td>\n",
              "      <td>06:52.9</td>\n",
              "      <td>daniellesoto@gmail.com</td>\n",
              "      <td>mferrell@protonmail.com</td>\n",
              "      <td>Financial responsibility attack.</td>\n",
              "      <td>Lose offer create develop well apply today mou...</td>\n",
              "      <td>Phishing</td>\n",
              "      <td>59.219.62.29</td>\n",
              "      <td>Knoxville</td>\n",
              "      <td>gmail.com</td>\n",
              "      <td>protonmail.com</td>\n",
              "      <td>132</td>\n",
              "      <td>2</td>\n",
              "      <td>0</td>\n",
              "      <td>confirm</td>\n",
              "      <td>Error</td>\n",
              "    </tr>\n",
              "    <tr>\n",
              "      <th>3</th>\n",
              "      <td>b4fca1ca-22af-4f15-bfee-e7d7adf159e3</td>\n",
              "      <td>27:21.0</td>\n",
              "      <td>mathissean@yahoo.com</td>\n",
              "      <td>patrickgarcia@aol.com</td>\n",
              "      <td>Night show either various group young.</td>\n",
              "      <td>Discuss offer method. Memory while make. Amoun...</td>\n",
              "      <td>Phishing</td>\n",
              "      <td>213.99.88.75</td>\n",
              "      <td>East Andreaton</td>\n",
              "      <td>yahoo.com</td>\n",
              "      <td>aol.com</td>\n",
              "      <td>119</td>\n",
              "      <td>2</td>\n",
              "      <td>0</td>\n",
              "      <td>account, update</td>\n",
              "      <td>Retail</td>\n",
              "    </tr>\n",
              "    <tr>\n",
              "      <th>4</th>\n",
              "      <td>4a3461a1-6535-42ce-991d-13adf28b8e52</td>\n",
              "      <td>34:03.8</td>\n",
              "      <td>morrishannah@aol.com</td>\n",
              "      <td>vchavez@icloud.com</td>\n",
              "      <td>Error</td>\n",
              "      <td>Movie kitchen health kind which policy. Civil ...</td>\n",
              "      <td>Phishing</td>\n",
              "      <td>90.196.229.178</td>\n",
              "      <td>South Elizabethbury</td>\n",
              "      <td>aol.com</td>\n",
              "      <td>icloud.com</td>\n",
              "      <td>132</td>\n",
              "      <td>2</td>\n",
              "      <td>7</td>\n",
              "      <td>urgent, verify</td>\n",
              "      <td>Retail</td>\n",
              "    </tr>\n",
              "  </tbody>\n",
              "</table>\n",
              "</div>\n",
              "    <div class=\"colab-df-buttons\">\n",
              "\n",
              "  <div class=\"colab-df-container\">\n",
              "    <button class=\"colab-df-convert\" onclick=\"convertToInteractive('df-84d45f3f-e3d1-4c76-9649-9f9de1bc6233')\"\n",
              "            title=\"Convert this dataframe to an interactive table.\"\n",
              "            style=\"display:none;\">\n",
              "\n",
              "  <svg xmlns=\"http://www.w3.org/2000/svg\" height=\"24px\" viewBox=\"0 -960 960 960\">\n",
              "    <path d=\"M120-120v-720h720v720H120Zm60-500h600v-160H180v160Zm220 220h160v-160H400v160Zm0 220h160v-160H400v160ZM180-400h160v-160H180v160Zm440 0h160v-160H620v160ZM180-180h160v-160H180v160Zm440 0h160v-160H620v160Z\"/>\n",
              "  </svg>\n",
              "    </button>\n",
              "\n",
              "  <style>\n",
              "    .colab-df-container {\n",
              "      display:flex;\n",
              "      gap: 12px;\n",
              "    }\n",
              "\n",
              "    .colab-df-convert {\n",
              "      background-color: #E8F0FE;\n",
              "      border: none;\n",
              "      border-radius: 50%;\n",
              "      cursor: pointer;\n",
              "      display: none;\n",
              "      fill: #1967D2;\n",
              "      height: 32px;\n",
              "      padding: 0 0 0 0;\n",
              "      width: 32px;\n",
              "    }\n",
              "\n",
              "    .colab-df-convert:hover {\n",
              "      background-color: #E2EBFA;\n",
              "      box-shadow: 0px 1px 2px rgba(60, 64, 67, 0.3), 0px 1px 3px 1px rgba(60, 64, 67, 0.15);\n",
              "      fill: #174EA6;\n",
              "    }\n",
              "\n",
              "    .colab-df-buttons div {\n",
              "      margin-bottom: 4px;\n",
              "    }\n",
              "\n",
              "    [theme=dark] .colab-df-convert {\n",
              "      background-color: #3B4455;\n",
              "      fill: #D2E3FC;\n",
              "    }\n",
              "\n",
              "    [theme=dark] .colab-df-convert:hover {\n",
              "      background-color: #434B5C;\n",
              "      box-shadow: 0px 1px 3px 1px rgba(0, 0, 0, 0.15);\n",
              "      filter: drop-shadow(0px 1px 2px rgba(0, 0, 0, 0.3));\n",
              "      fill: #FFFFFF;\n",
              "    }\n",
              "  </style>\n",
              "\n",
              "    <script>\n",
              "      const buttonEl =\n",
              "        document.querySelector('#df-84d45f3f-e3d1-4c76-9649-9f9de1bc6233 button.colab-df-convert');\n",
              "      buttonEl.style.display =\n",
              "        google.colab.kernel.accessAllowed ? 'block' : 'none';\n",
              "\n",
              "      async function convertToInteractive(key) {\n",
              "        const element = document.querySelector('#df-84d45f3f-e3d1-4c76-9649-9f9de1bc6233');\n",
              "        const dataTable =\n",
              "          await google.colab.kernel.invokeFunction('convertToInteractive',\n",
              "                                                    [key], {});\n",
              "        if (!dataTable) return;\n",
              "\n",
              "        const docLinkHtml = 'Like what you see? Visit the ' +\n",
              "          '<a target=\"_blank\" href=https://colab.research.google.com/notebooks/data_table.ipynb>data table notebook</a>'\n",
              "          + ' to learn more about interactive tables.';\n",
              "        element.innerHTML = '';\n",
              "        dataTable['output_type'] = 'display_data';\n",
              "        await google.colab.output.renderOutput(dataTable, element);\n",
              "        const docLink = document.createElement('div');\n",
              "        docLink.innerHTML = docLinkHtml;\n",
              "        element.appendChild(docLink);\n",
              "      }\n",
              "    </script>\n",
              "  </div>\n",
              "\n",
              "\n",
              "<div id=\"df-2d08a562-94d9-45bd-9e86-4d7c1ce9d727\">\n",
              "  <button class=\"colab-df-quickchart\" onclick=\"quickchart('df-2d08a562-94d9-45bd-9e86-4d7c1ce9d727')\"\n",
              "            title=\"Suggest charts\"\n",
              "            style=\"display:none;\">\n",
              "\n",
              "<svg xmlns=\"http://www.w3.org/2000/svg\" height=\"24px\"viewBox=\"0 0 24 24\"\n",
              "     width=\"24px\">\n",
              "    <g>\n",
              "        <path d=\"M19 3H5c-1.1 0-2 .9-2 2v14c0 1.1.9 2 2 2h14c1.1 0 2-.9 2-2V5c0-1.1-.9-2-2-2zM9 17H7v-7h2v7zm4 0h-2V7h2v10zm4 0h-2v-4h2v4z\"/>\n",
              "    </g>\n",
              "</svg>\n",
              "  </button>\n",
              "\n",
              "<style>\n",
              "  .colab-df-quickchart {\n",
              "      --bg-color: #E8F0FE;\n",
              "      --fill-color: #1967D2;\n",
              "      --hover-bg-color: #E2EBFA;\n",
              "      --hover-fill-color: #174EA6;\n",
              "      --disabled-fill-color: #AAA;\n",
              "      --disabled-bg-color: #DDD;\n",
              "  }\n",
              "\n",
              "  [theme=dark] .colab-df-quickchart {\n",
              "      --bg-color: #3B4455;\n",
              "      --fill-color: #D2E3FC;\n",
              "      --hover-bg-color: #434B5C;\n",
              "      --hover-fill-color: #FFFFFF;\n",
              "      --disabled-bg-color: #3B4455;\n",
              "      --disabled-fill-color: #666;\n",
              "  }\n",
              "\n",
              "  .colab-df-quickchart {\n",
              "    background-color: var(--bg-color);\n",
              "    border: none;\n",
              "    border-radius: 50%;\n",
              "    cursor: pointer;\n",
              "    display: none;\n",
              "    fill: var(--fill-color);\n",
              "    height: 32px;\n",
              "    padding: 0;\n",
              "    width: 32px;\n",
              "  }\n",
              "\n",
              "  .colab-df-quickchart:hover {\n",
              "    background-color: var(--hover-bg-color);\n",
              "    box-shadow: 0 1px 2px rgba(60, 64, 67, 0.3), 0 1px 3px 1px rgba(60, 64, 67, 0.15);\n",
              "    fill: var(--button-hover-fill-color);\n",
              "  }\n",
              "\n",
              "  .colab-df-quickchart-complete:disabled,\n",
              "  .colab-df-quickchart-complete:disabled:hover {\n",
              "    background-color: var(--disabled-bg-color);\n",
              "    fill: var(--disabled-fill-color);\n",
              "    box-shadow: none;\n",
              "  }\n",
              "\n",
              "  .colab-df-spinner {\n",
              "    border: 2px solid var(--fill-color);\n",
              "    border-color: transparent;\n",
              "    border-bottom-color: var(--fill-color);\n",
              "    animation:\n",
              "      spin 1s steps(1) infinite;\n",
              "  }\n",
              "\n",
              "  @keyframes spin {\n",
              "    0% {\n",
              "      border-color: transparent;\n",
              "      border-bottom-color: var(--fill-color);\n",
              "      border-left-color: var(--fill-color);\n",
              "    }\n",
              "    20% {\n",
              "      border-color: transparent;\n",
              "      border-left-color: var(--fill-color);\n",
              "      border-top-color: var(--fill-color);\n",
              "    }\n",
              "    30% {\n",
              "      border-color: transparent;\n",
              "      border-left-color: var(--fill-color);\n",
              "      border-top-color: var(--fill-color);\n",
              "      border-right-color: var(--fill-color);\n",
              "    }\n",
              "    40% {\n",
              "      border-color: transparent;\n",
              "      border-right-color: var(--fill-color);\n",
              "      border-top-color: var(--fill-color);\n",
              "    }\n",
              "    60% {\n",
              "      border-color: transparent;\n",
              "      border-right-color: var(--fill-color);\n",
              "    }\n",
              "    80% {\n",
              "      border-color: transparent;\n",
              "      border-right-color: var(--fill-color);\n",
              "      border-bottom-color: var(--fill-color);\n",
              "    }\n",
              "    90% {\n",
              "      border-color: transparent;\n",
              "      border-bottom-color: var(--fill-color);\n",
              "    }\n",
              "  }\n",
              "</style>\n",
              "\n",
              "  <script>\n",
              "    async function quickchart(key) {\n",
              "      const quickchartButtonEl =\n",
              "        document.querySelector('#' + key + ' button');\n",
              "      quickchartButtonEl.disabled = true;  // To prevent multiple clicks.\n",
              "      quickchartButtonEl.classList.add('colab-df-spinner');\n",
              "      try {\n",
              "        const charts = await google.colab.kernel.invokeFunction(\n",
              "            'suggestCharts', [key], {});\n",
              "      } catch (error) {\n",
              "        console.error('Error during call to suggestCharts:', error);\n",
              "      }\n",
              "      quickchartButtonEl.classList.remove('colab-df-spinner');\n",
              "      quickchartButtonEl.classList.add('colab-df-quickchart-complete');\n",
              "    }\n",
              "    (() => {\n",
              "      let quickchartButtonEl =\n",
              "        document.querySelector('#df-2d08a562-94d9-45bd-9e86-4d7c1ce9d727 button');\n",
              "      quickchartButtonEl.style.display =\n",
              "        google.colab.kernel.accessAllowed ? 'block' : 'none';\n",
              "    })();\n",
              "  </script>\n",
              "</div>\n",
              "\n",
              "    </div>\n",
              "  </div>\n"
            ],
            "application/vnd.google.colaboratory.intrinsic+json": {
              "type": "dataframe",
              "variable_name": "phishing_data",
              "summary": "{\n  \"name\": \"phishing_data\",\n  \"rows\": 520,\n  \"fields\": [\n    {\n      \"column\": \"Email ID\",\n      \"properties\": {\n        \"dtype\": \"string\",\n        \"num_unique_values\": 470,\n        \"samples\": [\n          \"5ddf1520-30a3-4144-b7f7-422252f3e9b6\",\n          \"15837e96-4814-49a7-bae7-fd62a48fbafe\",\n          \"93694ba6-224e-4503-b0f5-56b2564cf475\"\n        ],\n        \"semantic_type\": \"\",\n        \"description\": \"\"\n      }\n    },\n    {\n      \"column\": \"Timestamp\",\n      \"properties\": {\n        \"dtype\": \"string\",\n        \"num_unique_values\": 487,\n        \"samples\": [\n          \"42:07.8\",\n          \"01:42.1\",\n          \"22:57.7\"\n        ],\n        \"semantic_type\": \"\",\n        \"description\": \"\"\n      }\n    },\n    {\n      \"column\": \"Sender Email\",\n      \"properties\": {\n        \"dtype\": \"string\",\n        \"num_unique_values\": 474,\n        \"samples\": [\n          \"darrylkhan@outlook.com\",\n          \"hray@icloud.com\",\n          \"carla90@aol.com\"\n        ],\n        \"semantic_type\": \"\",\n        \"description\": \"\"\n      }\n    },\n    {\n      \"column\": \"Recipient Email\",\n      \"properties\": {\n        \"dtype\": \"string\",\n        \"num_unique_values\": 473,\n        \"samples\": [\n          \"fsingh@aol.com\",\n          \"thomasrichards@aol.com\",\n          \"afoster@gmail.com\"\n        ],\n        \"semantic_type\": \"\",\n        \"description\": \"\"\n      }\n    },\n    {\n      \"column\": \"Subject\",\n      \"properties\": {\n        \"dtype\": \"string\",\n        \"num_unique_values\": 478,\n        \"samples\": [\n          \"Second kind standard story.\",\n          \"Carry throw have issue visit word.\",\n          \"Compare rest history nor paper.\"\n        ],\n        \"semantic_type\": \"\",\n        \"description\": \"\"\n      }\n    },\n    {\n      \"column\": \"Email Body\",\n      \"properties\": {\n        \"dtype\": \"string\",\n        \"num_unique_values\": 469,\n        \"samples\": [\n          \"Remain cup investment ground fast. Bag maintain how a few. Attorney way region American very factor. Guy management board although PM agree. From girl inside quality either. Its price Mr general how play age student.\",\n          \"Well what doctor. May city peace. State happen low summer. Standard tend eight side open director right month. Consumer hope eat room beyond usually within.\",\n          \"Trade various success soon station stay. None fight chair market. Partner always beautiful involve control. Final pressure short nice since our.\"\n        ],\n        \"semantic_type\": \"\",\n        \"description\": \"\"\n      }\n    },\n    {\n      \"column\": \"Label\",\n      \"properties\": {\n        \"dtype\": \"category\",\n        \"num_unique_values\": 3,\n        \"samples\": [\n          \"Legitimate\",\n          \"Phishing\",\n          \"Error\"\n        ],\n        \"semantic_type\": \"\",\n        \"description\": \"\"\n      }\n    },\n    {\n      \"column\": \"IP Address\",\n      \"properties\": {\n        \"dtype\": \"string\",\n        \"num_unique_values\": 488,\n        \"samples\": [\n          \"8.11.201.212\",\n          \"106.153.221.10\",\n          \"165.205.181.20\"\n        ],\n        \"semantic_type\": \"\",\n        \"description\": \"\"\n      }\n    },\n    {\n      \"column\": \"Location\",\n      \"properties\": {\n        \"dtype\": \"string\",\n        \"num_unique_values\": 458,\n        \"samples\": [\n          \"Tiffanyside\",\n          \"Port Robertville\",\n          \"New Travis\"\n        ],\n        \"semantic_type\": \"\",\n        \"description\": \"\"\n      }\n    },\n    {\n      \"column\": \"Sender Domain\",\n      \"properties\": {\n        \"dtype\": \"category\",\n        \"num_unique_values\": 7,\n        \"samples\": [\n          \"protonmail.com\",\n          \"outlook.com\",\n          \"icloud.com\"\n        ],\n        \"semantic_type\": \"\",\n        \"description\": \"\"\n      }\n    },\n    {\n      \"column\": \"Recipient Domain\",\n      \"properties\": {\n        \"dtype\": \"category\",\n        \"num_unique_values\": 7,\n        \"samples\": [\n          \"protonmail.com\",\n          \"yahoo.com\",\n          \"gmail.com\"\n        ],\n        \"semantic_type\": \"\",\n        \"description\": \"\"\n      }\n    },\n    {\n      \"column\": \"Email Length\",\n      \"properties\": {\n        \"dtype\": \"category\",\n        \"num_unique_values\": 174,\n        \"samples\": [\n          \"147\",\n          \"213\",\n          \"3\"\n        ],\n        \"semantic_type\": \"\",\n        \"description\": \"\"\n      }\n    },\n    {\n      \"column\": \"Attachments\",\n      \"properties\": {\n        \"dtype\": \"category\",\n        \"num_unique_values\": 5,\n        \"samples\": [\n          \"1\",\n          \"Error\",\n          \"3\"\n        ],\n        \"semantic_type\": \"\",\n        \"description\": \"\"\n      }\n    },\n    {\n      \"column\": \"Link Count\",\n      \"properties\": {\n        \"dtype\": \"category\",\n        \"num_unique_values\": 11,\n        \"samples\": [\n          \"8\",\n          \"6\",\n          \"2\"\n        ],\n        \"semantic_type\": \"\",\n        \"description\": \"\"\n      }\n    },\n    {\n      \"column\": \"Suspicious Keywords\",\n      \"properties\": {\n        \"dtype\": \"category\",\n        \"num_unique_values\": 227,\n        \"samples\": [\n          \"click, login\",\n          \"click, password\",\n          \"confirm, account, password\"\n        ],\n        \"semantic_type\": \"\",\n        \"description\": \"\"\n      }\n    },\n    {\n      \"column\": \"Sector\",\n      \"properties\": {\n        \"dtype\": \"category\",\n        \"num_unique_values\": 3,\n        \"samples\": [\n          \"Healthcare\",\n          \"Retail\",\n          \"Error\"\n        ],\n        \"semantic_type\": \"\",\n        \"description\": \"\"\n      }\n    }\n  ]\n}"
            }
          },
          "metadata": {},
          "execution_count": 3
        }
      ]
    },
    {
      "cell_type": "code",
      "source": [
        "# Check for missing values\n",
        "print(\"Missing values per column:\")\n",
        "print(phishing_data.isnull().sum())\n",
        "\n",
        "# Fill missing values or drop rows if needed (example: fill with forward fill)\n",
        "phishing_data.fillna(method='ffill', inplace=True)\n",
        "\n",
        "# Verify cleaning\n",
        "print(\"Remaining missing values:\")\n",
        "print(phishing_data.isnull().sum())\n",
        "\n",
        "# View cleaned data\n",
        "phishing_data.head()\n"
      ],
      "metadata": {
        "colab": {
          "base_uri": "https://localhost:8080/",
          "height": 1000
        },
        "id": "0nh40oW7JWph",
        "outputId": "24050db6-f02e-4c9c-c779-a97df0486777"
      },
      "execution_count": 4,
      "outputs": [
        {
          "output_type": "stream",
          "name": "stdout",
          "text": [
            "Missing values per column:\n",
            "Email ID               23\n",
            "Timestamp               9\n",
            "Sender Email           20\n",
            "Recipient Email        20\n",
            "Subject                20\n",
            "Email Body             22\n",
            "Label                  14\n",
            "IP Address              9\n",
            "Location               26\n",
            "Sender Domain          20\n",
            "Recipient Domain       20\n",
            "Email Length            8\n",
            "Attachments            16\n",
            "Link Count             13\n",
            "Suspicious Keywords     0\n",
            "Sector                 21\n",
            "dtype: int64\n",
            "Remaining missing values:\n",
            "Email ID               0\n",
            "Timestamp              0\n",
            "Sender Email           0\n",
            "Recipient Email        0\n",
            "Subject                0\n",
            "Email Body             0\n",
            "Label                  0\n",
            "IP Address             0\n",
            "Location               0\n",
            "Sender Domain          0\n",
            "Recipient Domain       0\n",
            "Email Length           0\n",
            "Attachments            0\n",
            "Link Count             0\n",
            "Suspicious Keywords    0\n",
            "Sector                 0\n",
            "dtype: int64\n"
          ]
        },
        {
          "output_type": "stream",
          "name": "stderr",
          "text": [
            "<ipython-input-4-cf4b136f1c1c>:6: FutureWarning: DataFrame.fillna with 'method' is deprecated and will raise in a future version. Use obj.ffill() or obj.bfill() instead.\n",
            "  phishing_data.fillna(method='ffill', inplace=True)\n"
          ]
        },
        {
          "output_type": "execute_result",
          "data": {
            "text/plain": [
              "                               Email ID Timestamp            Sender Email  \\\n",
              "0  bd510c2e-e9ea-432c-a171-6a83b79e65d7   32:22.4   otyler@protonmail.com   \n",
              "1  73dfe436-8485-49f0-9635-8538046c6295   36:26.4    nicole77@outlook.com   \n",
              "2  2aad94e0-da9b-437c-be61-49667db5d762   06:52.9  daniellesoto@gmail.com   \n",
              "3  b4fca1ca-22af-4f15-bfee-e7d7adf159e3   27:21.0    mathissean@yahoo.com   \n",
              "4  4a3461a1-6535-42ce-991d-13adf28b8e52   34:03.8    morrishannah@aol.com   \n",
              "\n",
              "            Recipient Email                                       Subject  \\\n",
              "0  sarahkemp@protonmail.com  National man although for sell thought star.   \n",
              "1          pkelly@yahoo.com   World matter eat year agent soldier energy.   \n",
              "2   mferrell@protonmail.com              Financial responsibility attack.   \n",
              "3     patrickgarcia@aol.com        Night show either various group young.   \n",
              "4        vchavez@icloud.com                                         Error   \n",
              "\n",
              "                                          Email Body       Label  \\\n",
              "0  Indeed government born happen. Realize last be...  Legitimate   \n",
              "1  Over treatment agree contain style. Hospital c...    Phishing   \n",
              "2  Lose offer create develop well apply today mou...    Phishing   \n",
              "3  Discuss offer method. Memory while make. Amoun...    Phishing   \n",
              "4  Movie kitchen health kind which policy. Civil ...    Phishing   \n",
              "\n",
              "        IP Address             Location   Sender Domain Recipient Domain  \\\n",
              "0  208.190.144.153             Juantown  protonmail.com   protonmail.com   \n",
              "1      8.210.9.207           New Justin     outlook.com        yahoo.com   \n",
              "2     59.219.62.29            Knoxville       gmail.com   protonmail.com   \n",
              "3     213.99.88.75       East Andreaton       yahoo.com          aol.com   \n",
              "4   90.196.229.178  South Elizabethbury         aol.com       icloud.com   \n",
              "\n",
              "  Email Length Attachments Link Count Suspicious Keywords      Sector  \n",
              "0           96           2          6       click, urgent  Healthcare  \n",
              "1          222           1          4       click, secure      Retail  \n",
              "2          132           2          0             confirm       Error  \n",
              "3          119           2          0     account, update      Retail  \n",
              "4          132           2          7      urgent, verify      Retail  "
            ],
            "text/html": [
              "\n",
              "  <div id=\"df-7601f862-4696-4a80-bcaa-bc5ffe4bc11c\" class=\"colab-df-container\">\n",
              "    <div>\n",
              "<style scoped>\n",
              "    .dataframe tbody tr th:only-of-type {\n",
              "        vertical-align: middle;\n",
              "    }\n",
              "\n",
              "    .dataframe tbody tr th {\n",
              "        vertical-align: top;\n",
              "    }\n",
              "\n",
              "    .dataframe thead th {\n",
              "        text-align: right;\n",
              "    }\n",
              "</style>\n",
              "<table border=\"1\" class=\"dataframe\">\n",
              "  <thead>\n",
              "    <tr style=\"text-align: right;\">\n",
              "      <th></th>\n",
              "      <th>Email ID</th>\n",
              "      <th>Timestamp</th>\n",
              "      <th>Sender Email</th>\n",
              "      <th>Recipient Email</th>\n",
              "      <th>Subject</th>\n",
              "      <th>Email Body</th>\n",
              "      <th>Label</th>\n",
              "      <th>IP Address</th>\n",
              "      <th>Location</th>\n",
              "      <th>Sender Domain</th>\n",
              "      <th>Recipient Domain</th>\n",
              "      <th>Email Length</th>\n",
              "      <th>Attachments</th>\n",
              "      <th>Link Count</th>\n",
              "      <th>Suspicious Keywords</th>\n",
              "      <th>Sector</th>\n",
              "    </tr>\n",
              "  </thead>\n",
              "  <tbody>\n",
              "    <tr>\n",
              "      <th>0</th>\n",
              "      <td>bd510c2e-e9ea-432c-a171-6a83b79e65d7</td>\n",
              "      <td>32:22.4</td>\n",
              "      <td>otyler@protonmail.com</td>\n",
              "      <td>sarahkemp@protonmail.com</td>\n",
              "      <td>National man although for sell thought star.</td>\n",
              "      <td>Indeed government born happen. Realize last be...</td>\n",
              "      <td>Legitimate</td>\n",
              "      <td>208.190.144.153</td>\n",
              "      <td>Juantown</td>\n",
              "      <td>protonmail.com</td>\n",
              "      <td>protonmail.com</td>\n",
              "      <td>96</td>\n",
              "      <td>2</td>\n",
              "      <td>6</td>\n",
              "      <td>click, urgent</td>\n",
              "      <td>Healthcare</td>\n",
              "    </tr>\n",
              "    <tr>\n",
              "      <th>1</th>\n",
              "      <td>73dfe436-8485-49f0-9635-8538046c6295</td>\n",
              "      <td>36:26.4</td>\n",
              "      <td>nicole77@outlook.com</td>\n",
              "      <td>pkelly@yahoo.com</td>\n",
              "      <td>World matter eat year agent soldier energy.</td>\n",
              "      <td>Over treatment agree contain style. Hospital c...</td>\n",
              "      <td>Phishing</td>\n",
              "      <td>8.210.9.207</td>\n",
              "      <td>New Justin</td>\n",
              "      <td>outlook.com</td>\n",
              "      <td>yahoo.com</td>\n",
              "      <td>222</td>\n",
              "      <td>1</td>\n",
              "      <td>4</td>\n",
              "      <td>click, secure</td>\n",
              "      <td>Retail</td>\n",
              "    </tr>\n",
              "    <tr>\n",
              "      <th>2</th>\n",
              "      <td>2aad94e0-da9b-437c-be61-49667db5d762</td>\n",
              "      <td>06:52.9</td>\n",
              "      <td>daniellesoto@gmail.com</td>\n",
              "      <td>mferrell@protonmail.com</td>\n",
              "      <td>Financial responsibility attack.</td>\n",
              "      <td>Lose offer create develop well apply today mou...</td>\n",
              "      <td>Phishing</td>\n",
              "      <td>59.219.62.29</td>\n",
              "      <td>Knoxville</td>\n",
              "      <td>gmail.com</td>\n",
              "      <td>protonmail.com</td>\n",
              "      <td>132</td>\n",
              "      <td>2</td>\n",
              "      <td>0</td>\n",
              "      <td>confirm</td>\n",
              "      <td>Error</td>\n",
              "    </tr>\n",
              "    <tr>\n",
              "      <th>3</th>\n",
              "      <td>b4fca1ca-22af-4f15-bfee-e7d7adf159e3</td>\n",
              "      <td>27:21.0</td>\n",
              "      <td>mathissean@yahoo.com</td>\n",
              "      <td>patrickgarcia@aol.com</td>\n",
              "      <td>Night show either various group young.</td>\n",
              "      <td>Discuss offer method. Memory while make. Amoun...</td>\n",
              "      <td>Phishing</td>\n",
              "      <td>213.99.88.75</td>\n",
              "      <td>East Andreaton</td>\n",
              "      <td>yahoo.com</td>\n",
              "      <td>aol.com</td>\n",
              "      <td>119</td>\n",
              "      <td>2</td>\n",
              "      <td>0</td>\n",
              "      <td>account, update</td>\n",
              "      <td>Retail</td>\n",
              "    </tr>\n",
              "    <tr>\n",
              "      <th>4</th>\n",
              "      <td>4a3461a1-6535-42ce-991d-13adf28b8e52</td>\n",
              "      <td>34:03.8</td>\n",
              "      <td>morrishannah@aol.com</td>\n",
              "      <td>vchavez@icloud.com</td>\n",
              "      <td>Error</td>\n",
              "      <td>Movie kitchen health kind which policy. Civil ...</td>\n",
              "      <td>Phishing</td>\n",
              "      <td>90.196.229.178</td>\n",
              "      <td>South Elizabethbury</td>\n",
              "      <td>aol.com</td>\n",
              "      <td>icloud.com</td>\n",
              "      <td>132</td>\n",
              "      <td>2</td>\n",
              "      <td>7</td>\n",
              "      <td>urgent, verify</td>\n",
              "      <td>Retail</td>\n",
              "    </tr>\n",
              "  </tbody>\n",
              "</table>\n",
              "</div>\n",
              "    <div class=\"colab-df-buttons\">\n",
              "\n",
              "  <div class=\"colab-df-container\">\n",
              "    <button class=\"colab-df-convert\" onclick=\"convertToInteractive('df-7601f862-4696-4a80-bcaa-bc5ffe4bc11c')\"\n",
              "            title=\"Convert this dataframe to an interactive table.\"\n",
              "            style=\"display:none;\">\n",
              "\n",
              "  <svg xmlns=\"http://www.w3.org/2000/svg\" height=\"24px\" viewBox=\"0 -960 960 960\">\n",
              "    <path d=\"M120-120v-720h720v720H120Zm60-500h600v-160H180v160Zm220 220h160v-160H400v160Zm0 220h160v-160H400v160ZM180-400h160v-160H180v160Zm440 0h160v-160H620v160ZM180-180h160v-160H180v160Zm440 0h160v-160H620v160Z\"/>\n",
              "  </svg>\n",
              "    </button>\n",
              "\n",
              "  <style>\n",
              "    .colab-df-container {\n",
              "      display:flex;\n",
              "      gap: 12px;\n",
              "    }\n",
              "\n",
              "    .colab-df-convert {\n",
              "      background-color: #E8F0FE;\n",
              "      border: none;\n",
              "      border-radius: 50%;\n",
              "      cursor: pointer;\n",
              "      display: none;\n",
              "      fill: #1967D2;\n",
              "      height: 32px;\n",
              "      padding: 0 0 0 0;\n",
              "      width: 32px;\n",
              "    }\n",
              "\n",
              "    .colab-df-convert:hover {\n",
              "      background-color: #E2EBFA;\n",
              "      box-shadow: 0px 1px 2px rgba(60, 64, 67, 0.3), 0px 1px 3px 1px rgba(60, 64, 67, 0.15);\n",
              "      fill: #174EA6;\n",
              "    }\n",
              "\n",
              "    .colab-df-buttons div {\n",
              "      margin-bottom: 4px;\n",
              "    }\n",
              "\n",
              "    [theme=dark] .colab-df-convert {\n",
              "      background-color: #3B4455;\n",
              "      fill: #D2E3FC;\n",
              "    }\n",
              "\n",
              "    [theme=dark] .colab-df-convert:hover {\n",
              "      background-color: #434B5C;\n",
              "      box-shadow: 0px 1px 3px 1px rgba(0, 0, 0, 0.15);\n",
              "      filter: drop-shadow(0px 1px 2px rgba(0, 0, 0, 0.3));\n",
              "      fill: #FFFFFF;\n",
              "    }\n",
              "  </style>\n",
              "\n",
              "    <script>\n",
              "      const buttonEl =\n",
              "        document.querySelector('#df-7601f862-4696-4a80-bcaa-bc5ffe4bc11c button.colab-df-convert');\n",
              "      buttonEl.style.display =\n",
              "        google.colab.kernel.accessAllowed ? 'block' : 'none';\n",
              "\n",
              "      async function convertToInteractive(key) {\n",
              "        const element = document.querySelector('#df-7601f862-4696-4a80-bcaa-bc5ffe4bc11c');\n",
              "        const dataTable =\n",
              "          await google.colab.kernel.invokeFunction('convertToInteractive',\n",
              "                                                    [key], {});\n",
              "        if (!dataTable) return;\n",
              "\n",
              "        const docLinkHtml = 'Like what you see? Visit the ' +\n",
              "          '<a target=\"_blank\" href=https://colab.research.google.com/notebooks/data_table.ipynb>data table notebook</a>'\n",
              "          + ' to learn more about interactive tables.';\n",
              "        element.innerHTML = '';\n",
              "        dataTable['output_type'] = 'display_data';\n",
              "        await google.colab.output.renderOutput(dataTable, element);\n",
              "        const docLink = document.createElement('div');\n",
              "        docLink.innerHTML = docLinkHtml;\n",
              "        element.appendChild(docLink);\n",
              "      }\n",
              "    </script>\n",
              "  </div>\n",
              "\n",
              "\n",
              "<div id=\"df-d4d6fafd-6b6a-401d-9eee-c52cf54c012e\">\n",
              "  <button class=\"colab-df-quickchart\" onclick=\"quickchart('df-d4d6fafd-6b6a-401d-9eee-c52cf54c012e')\"\n",
              "            title=\"Suggest charts\"\n",
              "            style=\"display:none;\">\n",
              "\n",
              "<svg xmlns=\"http://www.w3.org/2000/svg\" height=\"24px\"viewBox=\"0 0 24 24\"\n",
              "     width=\"24px\">\n",
              "    <g>\n",
              "        <path d=\"M19 3H5c-1.1 0-2 .9-2 2v14c0 1.1.9 2 2 2h14c1.1 0 2-.9 2-2V5c0-1.1-.9-2-2-2zM9 17H7v-7h2v7zm4 0h-2V7h2v10zm4 0h-2v-4h2v4z\"/>\n",
              "    </g>\n",
              "</svg>\n",
              "  </button>\n",
              "\n",
              "<style>\n",
              "  .colab-df-quickchart {\n",
              "      --bg-color: #E8F0FE;\n",
              "      --fill-color: #1967D2;\n",
              "      --hover-bg-color: #E2EBFA;\n",
              "      --hover-fill-color: #174EA6;\n",
              "      --disabled-fill-color: #AAA;\n",
              "      --disabled-bg-color: #DDD;\n",
              "  }\n",
              "\n",
              "  [theme=dark] .colab-df-quickchart {\n",
              "      --bg-color: #3B4455;\n",
              "      --fill-color: #D2E3FC;\n",
              "      --hover-bg-color: #434B5C;\n",
              "      --hover-fill-color: #FFFFFF;\n",
              "      --disabled-bg-color: #3B4455;\n",
              "      --disabled-fill-color: #666;\n",
              "  }\n",
              "\n",
              "  .colab-df-quickchart {\n",
              "    background-color: var(--bg-color);\n",
              "    border: none;\n",
              "    border-radius: 50%;\n",
              "    cursor: pointer;\n",
              "    display: none;\n",
              "    fill: var(--fill-color);\n",
              "    height: 32px;\n",
              "    padding: 0;\n",
              "    width: 32px;\n",
              "  }\n",
              "\n",
              "  .colab-df-quickchart:hover {\n",
              "    background-color: var(--hover-bg-color);\n",
              "    box-shadow: 0 1px 2px rgba(60, 64, 67, 0.3), 0 1px 3px 1px rgba(60, 64, 67, 0.15);\n",
              "    fill: var(--button-hover-fill-color);\n",
              "  }\n",
              "\n",
              "  .colab-df-quickchart-complete:disabled,\n",
              "  .colab-df-quickchart-complete:disabled:hover {\n",
              "    background-color: var(--disabled-bg-color);\n",
              "    fill: var(--disabled-fill-color);\n",
              "    box-shadow: none;\n",
              "  }\n",
              "\n",
              "  .colab-df-spinner {\n",
              "    border: 2px solid var(--fill-color);\n",
              "    border-color: transparent;\n",
              "    border-bottom-color: var(--fill-color);\n",
              "    animation:\n",
              "      spin 1s steps(1) infinite;\n",
              "  }\n",
              "\n",
              "  @keyframes spin {\n",
              "    0% {\n",
              "      border-color: transparent;\n",
              "      border-bottom-color: var(--fill-color);\n",
              "      border-left-color: var(--fill-color);\n",
              "    }\n",
              "    20% {\n",
              "      border-color: transparent;\n",
              "      border-left-color: var(--fill-color);\n",
              "      border-top-color: var(--fill-color);\n",
              "    }\n",
              "    30% {\n",
              "      border-color: transparent;\n",
              "      border-left-color: var(--fill-color);\n",
              "      border-top-color: var(--fill-color);\n",
              "      border-right-color: var(--fill-color);\n",
              "    }\n",
              "    40% {\n",
              "      border-color: transparent;\n",
              "      border-right-color: var(--fill-color);\n",
              "      border-top-color: var(--fill-color);\n",
              "    }\n",
              "    60% {\n",
              "      border-color: transparent;\n",
              "      border-right-color: var(--fill-color);\n",
              "    }\n",
              "    80% {\n",
              "      border-color: transparent;\n",
              "      border-right-color: var(--fill-color);\n",
              "      border-bottom-color: var(--fill-color);\n",
              "    }\n",
              "    90% {\n",
              "      border-color: transparent;\n",
              "      border-bottom-color: var(--fill-color);\n",
              "    }\n",
              "  }\n",
              "</style>\n",
              "\n",
              "  <script>\n",
              "    async function quickchart(key) {\n",
              "      const quickchartButtonEl =\n",
              "        document.querySelector('#' + key + ' button');\n",
              "      quickchartButtonEl.disabled = true;  // To prevent multiple clicks.\n",
              "      quickchartButtonEl.classList.add('colab-df-spinner');\n",
              "      try {\n",
              "        const charts = await google.colab.kernel.invokeFunction(\n",
              "            'suggestCharts', [key], {});\n",
              "      } catch (error) {\n",
              "        console.error('Error during call to suggestCharts:', error);\n",
              "      }\n",
              "      quickchartButtonEl.classList.remove('colab-df-spinner');\n",
              "      quickchartButtonEl.classList.add('colab-df-quickchart-complete');\n",
              "    }\n",
              "    (() => {\n",
              "      let quickchartButtonEl =\n",
              "        document.querySelector('#df-d4d6fafd-6b6a-401d-9eee-c52cf54c012e button');\n",
              "      quickchartButtonEl.style.display =\n",
              "        google.colab.kernel.accessAllowed ? 'block' : 'none';\n",
              "    })();\n",
              "  </script>\n",
              "</div>\n",
              "\n",
              "    </div>\n",
              "  </div>\n"
            ],
            "application/vnd.google.colaboratory.intrinsic+json": {
              "type": "dataframe",
              "variable_name": "phishing_data",
              "summary": "{\n  \"name\": \"phishing_data\",\n  \"rows\": 520,\n  \"fields\": [\n    {\n      \"column\": \"Email ID\",\n      \"properties\": {\n        \"dtype\": \"string\",\n        \"num_unique_values\": 470,\n        \"samples\": [\n          \"5ddf1520-30a3-4144-b7f7-422252f3e9b6\",\n          \"15837e96-4814-49a7-bae7-fd62a48fbafe\",\n          \"93694ba6-224e-4503-b0f5-56b2564cf475\"\n        ],\n        \"semantic_type\": \"\",\n        \"description\": \"\"\n      }\n    },\n    {\n      \"column\": \"Timestamp\",\n      \"properties\": {\n        \"dtype\": \"string\",\n        \"num_unique_values\": 487,\n        \"samples\": [\n          \"42:07.8\",\n          \"01:42.1\",\n          \"22:57.7\"\n        ],\n        \"semantic_type\": \"\",\n        \"description\": \"\"\n      }\n    },\n    {\n      \"column\": \"Sender Email\",\n      \"properties\": {\n        \"dtype\": \"string\",\n        \"num_unique_values\": 474,\n        \"samples\": [\n          \"darrylkhan@outlook.com\",\n          \"hray@icloud.com\",\n          \"carla90@aol.com\"\n        ],\n        \"semantic_type\": \"\",\n        \"description\": \"\"\n      }\n    },\n    {\n      \"column\": \"Recipient Email\",\n      \"properties\": {\n        \"dtype\": \"string\",\n        \"num_unique_values\": 473,\n        \"samples\": [\n          \"fsingh@aol.com\",\n          \"thomasrichards@aol.com\",\n          \"afoster@gmail.com\"\n        ],\n        \"semantic_type\": \"\",\n        \"description\": \"\"\n      }\n    },\n    {\n      \"column\": \"Subject\",\n      \"properties\": {\n        \"dtype\": \"string\",\n        \"num_unique_values\": 478,\n        \"samples\": [\n          \"Second kind standard story.\",\n          \"Carry throw have issue visit word.\",\n          \"Compare rest history nor paper.\"\n        ],\n        \"semantic_type\": \"\",\n        \"description\": \"\"\n      }\n    },\n    {\n      \"column\": \"Email Body\",\n      \"properties\": {\n        \"dtype\": \"string\",\n        \"num_unique_values\": 469,\n        \"samples\": [\n          \"Remain cup investment ground fast. Bag maintain how a few. Attorney way region American very factor. Guy management board although PM agree. From girl inside quality either. Its price Mr general how play age student.\",\n          \"Well what doctor. May city peace. State happen low summer. Standard tend eight side open director right month. Consumer hope eat room beyond usually within.\",\n          \"Trade various success soon station stay. None fight chair market. Partner always beautiful involve control. Final pressure short nice since our.\"\n        ],\n        \"semantic_type\": \"\",\n        \"description\": \"\"\n      }\n    },\n    {\n      \"column\": \"Label\",\n      \"properties\": {\n        \"dtype\": \"category\",\n        \"num_unique_values\": 3,\n        \"samples\": [\n          \"Legitimate\",\n          \"Phishing\",\n          \"Error\"\n        ],\n        \"semantic_type\": \"\",\n        \"description\": \"\"\n      }\n    },\n    {\n      \"column\": \"IP Address\",\n      \"properties\": {\n        \"dtype\": \"string\",\n        \"num_unique_values\": 488,\n        \"samples\": [\n          \"8.11.201.212\",\n          \"106.153.221.10\",\n          \"165.205.181.20\"\n        ],\n        \"semantic_type\": \"\",\n        \"description\": \"\"\n      }\n    },\n    {\n      \"column\": \"Location\",\n      \"properties\": {\n        \"dtype\": \"string\",\n        \"num_unique_values\": 458,\n        \"samples\": [\n          \"Tiffanyside\",\n          \"Port Robertville\",\n          \"New Travis\"\n        ],\n        \"semantic_type\": \"\",\n        \"description\": \"\"\n      }\n    },\n    {\n      \"column\": \"Sender Domain\",\n      \"properties\": {\n        \"dtype\": \"category\",\n        \"num_unique_values\": 7,\n        \"samples\": [\n          \"protonmail.com\",\n          \"outlook.com\",\n          \"icloud.com\"\n        ],\n        \"semantic_type\": \"\",\n        \"description\": \"\"\n      }\n    },\n    {\n      \"column\": \"Recipient Domain\",\n      \"properties\": {\n        \"dtype\": \"category\",\n        \"num_unique_values\": 7,\n        \"samples\": [\n          \"protonmail.com\",\n          \"yahoo.com\",\n          \"gmail.com\"\n        ],\n        \"semantic_type\": \"\",\n        \"description\": \"\"\n      }\n    },\n    {\n      \"column\": \"Email Length\",\n      \"properties\": {\n        \"dtype\": \"category\",\n        \"num_unique_values\": 174,\n        \"samples\": [\n          \"147\",\n          \"213\",\n          \"3\"\n        ],\n        \"semantic_type\": \"\",\n        \"description\": \"\"\n      }\n    },\n    {\n      \"column\": \"Attachments\",\n      \"properties\": {\n        \"dtype\": \"category\",\n        \"num_unique_values\": 5,\n        \"samples\": [\n          \"1\",\n          \"Error\",\n          \"3\"\n        ],\n        \"semantic_type\": \"\",\n        \"description\": \"\"\n      }\n    },\n    {\n      \"column\": \"Link Count\",\n      \"properties\": {\n        \"dtype\": \"category\",\n        \"num_unique_values\": 11,\n        \"samples\": [\n          \"8\",\n          \"6\",\n          \"2\"\n        ],\n        \"semantic_type\": \"\",\n        \"description\": \"\"\n      }\n    },\n    {\n      \"column\": \"Suspicious Keywords\",\n      \"properties\": {\n        \"dtype\": \"category\",\n        \"num_unique_values\": 227,\n        \"samples\": [\n          \"click, login\",\n          \"click, password\",\n          \"confirm, account, password\"\n        ],\n        \"semantic_type\": \"\",\n        \"description\": \"\"\n      }\n    },\n    {\n      \"column\": \"Sector\",\n      \"properties\": {\n        \"dtype\": \"category\",\n        \"num_unique_values\": 3,\n        \"samples\": [\n          \"Healthcare\",\n          \"Retail\",\n          \"Error\"\n        ],\n        \"semantic_type\": \"\",\n        \"description\": \"\"\n      }\n    }\n  ]\n}"
            }
          },
          "metadata": {},
          "execution_count": 4
        }
      ]
    },
    {
      "cell_type": "code",
      "source": [
        "\n",
        "# Check the data duplication\n",
        "duplicates = phishing_data.duplicated()\n",
        "print(f\"Number of duplicate entries: {duplicates.sum()}\")"
      ],
      "metadata": {
        "colab": {
          "base_uri": "https://localhost:8080/"
        },
        "id": "HMXgDZlgjWsB",
        "outputId": "7a52b63e-9074-4f61-e84c-4ce2185ffe49"
      },
      "execution_count": 7,
      "outputs": [
        {
          "output_type": "stream",
          "name": "stdout",
          "text": [
            "Number of duplicate entries: 16\n"
          ]
        }
      ]
    },
    {
      "cell_type": "code",
      "source": [
        "df_dropdupli= phishing_data.drop_duplicates()"
      ],
      "metadata": {
        "id": "Wz9eYVe6r0in"
      },
      "execution_count": 9,
      "outputs": []
    },
    {
      "cell_type": "code",
      "source": [
        "# Check the data duplication\n",
        "duplicates = df_dropdupli.duplicated()\n",
        "print(f\"Number of duplicate entries: {duplicates.sum()}\")"
      ],
      "metadata": {
        "colab": {
          "base_uri": "https://localhost:8080/"
        },
        "outputId": "24b0d927-6ef6-41aa-d325-6c39b326979a",
        "id": "Y2RRcR2rseO9"
      },
      "execution_count": 12,
      "outputs": [
        {
          "output_type": "stream",
          "name": "stdout",
          "text": [
            "Number of duplicate entries: 0\n"
          ]
        }
      ]
    },
    {
      "cell_type": "code",
      "source": [
        "# Assuming you have already converted the relevant columns\n",
        "columns_to_convert = ['Email Length', 'Link Count']  # Specify the columns you converted\n",
        "\n",
        "# Check for NaN values after conversion\n",
        "print(phishing_data[columns_to_convert].isnull().sum())\n",
        "\n",
        "# Handle NaN values using .loc to avoid SettingWithCopyWarning\n",
        "for column in columns_to_convert:\n",
        "    phishing_data.loc[phishing_data[column].isnull(), column] = 0  # Replace NaNs with 0\n",
        "\n",
        "# Now you can safely calculate the IQR\n",
        "Q1 = phishing_data['Email Length'].quantile(0.25)  # For Email Length\n",
        "Q3 = phishing_data['Email Length'].quantile(0.75)\n",
        "IQR = Q3 - Q1\n",
        "\n",
        "print(f\"IQR for Email Length: {IQR}\")"
      ],
      "metadata": {
        "colab": {
          "base_uri": "https://localhost:8080/"
        },
        "id": "N0o_Th2OPFUd",
        "outputId": "b118b4a4-e669-48cd-d7be-240400413eb5"
      },
      "execution_count": 19,
      "outputs": [
        {
          "output_type": "stream",
          "name": "stdout",
          "text": [
            "Email Length    1\n",
            "Link Count      4\n",
            "dtype: int64\n",
            "IQR for Email Length: 80.0\n"
          ]
        }
      ]
    },
    {
      "cell_type": "code",
      "source": [
        "# Check for missing values\n",
        "phishing_data.isnull().sum()\n",
        "# Example approach to fill or drop missing values\n",
        "phishing_data.fillna(method='ffill', inplace=True)\n"
      ],
      "metadata": {
        "id": "JzfIH9dzubZp",
        "colab": {
          "base_uri": "https://localhost:8080/"
        },
        "outputId": "d9b0f4e2-a623-4518-dc95-f23cfc07d305"
      },
      "execution_count": 21,
      "outputs": [
        {
          "output_type": "stream",
          "name": "stderr",
          "text": [
            "<ipython-input-21-e93ac7e90d9d>:4: FutureWarning: DataFrame.fillna with 'method' is deprecated and will raise in a future version. Use obj.ffill() or obj.bfill() instead.\n",
            "  phishing_data.fillna(method='ffill', inplace=True)\n"
          ]
        }
      ]
    },
    {
      "cell_type": "code",
      "source": [],
      "metadata": {
        "id": "RENl05VeSnp7"
      },
      "execution_count": null,
      "outputs": []
    },
    {
      "cell_type": "code",
      "source": [
        "pip install imbalanced-learn"
      ],
      "metadata": {
        "colab": {
          "base_uri": "https://localhost:8080/"
        },
        "id": "BJ-fCudOGcxN",
        "outputId": "4ba5cf79-6b3d-4ae7-9b8b-6378a1945e10"
      },
      "execution_count": 22,
      "outputs": [
        {
          "output_type": "stream",
          "name": "stdout",
          "text": [
            "Requirement already satisfied: imbalanced-learn in /usr/local/lib/python3.10/dist-packages (0.12.4)\n",
            "Requirement already satisfied: numpy>=1.17.3 in /usr/local/lib/python3.10/dist-packages (from imbalanced-learn) (1.26.4)\n",
            "Requirement already satisfied: scipy>=1.5.0 in /usr/local/lib/python3.10/dist-packages (from imbalanced-learn) (1.13.1)\n",
            "Requirement already satisfied: scikit-learn>=1.0.2 in /usr/local/lib/python3.10/dist-packages (from imbalanced-learn) (1.5.2)\n",
            "Requirement already satisfied: joblib>=1.1.1 in /usr/local/lib/python3.10/dist-packages (from imbalanced-learn) (1.4.2)\n",
            "Requirement already satisfied: threadpoolctl>=2.0.0 in /usr/local/lib/python3.10/dist-packages (from imbalanced-learn) (3.5.0)\n"
          ]
        }
      ]
    },
    {
      "cell_type": "code",
      "source": [],
      "metadata": {
        "id": "9fgUxU9QSrC8"
      },
      "execution_count": null,
      "outputs": []
    },
    {
      "cell_type": "code",
      "source": [
        "import pandas as pd\n",
        "from imblearn.over_sampling import SMOTE\n",
        "from collections import Counter\n",
        "from sklearn.preprocessing import LabelEncoder\n",
        "\n",
        "# Load your phishing dataset (uncomment and modify the file path as needed)\n",
        "# phishing_data = pd.read_csv('your_phishing_data.csv')\n",
        "\n",
        "# Check the first few rows of the dataset\n",
        "print(\"Original Dataset Preview:\")\n",
        "print(phishing_data.head())\n",
        "\n",
        "# Remove rows with 'Error' in the 'Label' column\n",
        "phishing_data = phishing_data[phishing_data['Label'] != 'Error']\n",
        "\n",
        "# Define the target variable and feature set\n",
        "y = phishing_data['Label']  # Target column\n",
        "X = phishing_data.drop(columns=['Label'])  # All other columns are features\n",
        "\n",
        "# Check the original class distribution\n",
        "print(\"Original class distribution:\", Counter(y))\n",
        "\n",
        "# Identify non-numeric columns\n",
        "non_numeric_columns = X.select_dtypes(include=['object']).columns\n",
        "print(\"Non-numeric columns:\", non_numeric_columns)\n",
        "\n",
        "# Convert non-numeric columns to numeric using Label Encoding\n",
        "label_encoders = {}\n",
        "for column in non_numeric_columns:\n",
        "    le = LabelEncoder()\n",
        "    X[column] = le.fit_transform(X[column])  # Apply label encoding\n",
        "    label_encoders[column] = le  # Store the encoder if you need to inverse transform later\n",
        "\n",
        "# Apply SMOTE to the data\n",
        "smote = SMOTE(random_state=42)\n",
        "X_resampled, y_resampled = smote.fit_resample(X, y)\n",
        "\n",
        "# Create a new DataFrame with the resampled data\n",
        "balanced_data = pd.DataFrame(X_resampled, columns=X.columns)\n",
        "balanced_data['Label'] = y_resampled\n",
        "\n",
        "# Check the new class distribution\n",
        "print(\"New class distribution:\", Counter(balanced_data['Label']))\n",
        "\n",
        "# Now you can use 'balanced_data' for your further analysis or modeling\n"
      ],
      "metadata": {
        "colab": {
          "base_uri": "https://localhost:8080/"
        },
        "id": "QMvwXcT-R0ip",
        "outputId": "4a863813-51a9-4bd4-afd9-94253848eddd"
      },
      "execution_count": 23,
      "outputs": [
        {
          "output_type": "stream",
          "name": "stdout",
          "text": [
            "Original Dataset Preview:\n",
            "                               Email ID Timestamp            Sender Email  \\\n",
            "0  bd510c2e-e9ea-432c-a171-6a83b79e65d7   32:22.4   otyler@protonmail.com   \n",
            "1  73dfe436-8485-49f0-9635-8538046c6295   36:26.4    nicole77@outlook.com   \n",
            "2  2aad94e0-da9b-437c-be61-49667db5d762   06:52.9  daniellesoto@gmail.com   \n",
            "3  b4fca1ca-22af-4f15-bfee-e7d7adf159e3   27:21.0    mathissean@yahoo.com   \n",
            "4  4a3461a1-6535-42ce-991d-13adf28b8e52   34:03.8    morrishannah@aol.com   \n",
            "\n",
            "            Recipient Email                                       Subject  \\\n",
            "0  sarahkemp@protonmail.com  National man although for sell thought star.   \n",
            "1          pkelly@yahoo.com   World matter eat year agent soldier energy.   \n",
            "2   mferrell@protonmail.com              Financial responsibility attack.   \n",
            "3     patrickgarcia@aol.com        Night show either various group young.   \n",
            "4        vchavez@icloud.com                                         Error   \n",
            "\n",
            "                                          Email Body       Label  \\\n",
            "0  Indeed government born happen. Realize last be...  Legitimate   \n",
            "1  Over treatment agree contain style. Hospital c...    Phishing   \n",
            "2  Lose offer create develop well apply today mou...    Phishing   \n",
            "3  Discuss offer method. Memory while make. Amoun...    Phishing   \n",
            "4  Movie kitchen health kind which policy. Civil ...    Phishing   \n",
            "\n",
            "        IP Address             Location   Sender Domain Recipient Domain  \\\n",
            "0  208.190.144.153             Juantown  protonmail.com   protonmail.com   \n",
            "1      8.210.9.207           New Justin     outlook.com        yahoo.com   \n",
            "2     59.219.62.29            Knoxville       gmail.com   protonmail.com   \n",
            "3     213.99.88.75       East Andreaton       yahoo.com          aol.com   \n",
            "4   90.196.229.178  South Elizabethbury         aol.com       icloud.com   \n",
            "\n",
            "   Email Length Attachments  Link Count Suspicious Keywords      Sector  \n",
            "0          96.0           2         6.0       click, urgent  Healthcare  \n",
            "1         222.0           1         4.0       click, secure      Retail  \n",
            "2         132.0           2         0.0             confirm       Error  \n",
            "3         119.0           2         0.0     account, update      Retail  \n",
            "4         132.0           2         7.0      urgent, verify      Retail  \n",
            "Original class distribution: Counter({'Phishing': 285, 'Legitimate': 223})\n",
            "Non-numeric columns: Index(['Email ID', 'Timestamp', 'Sender Email', 'Recipient Email', 'Subject',\n",
            "       'Email Body', 'IP Address', 'Location', 'Sender Domain',\n",
            "       'Recipient Domain', 'Attachments', 'Suspicious Keywords', 'Sector'],\n",
            "      dtype='object')\n",
            "New class distribution: Counter({'Legitimate': 285, 'Phishing': 285})\n"
          ]
        }
      ]
    },
    {
      "cell_type": "code",
      "source": [
        "sns.pairplot(phishing_data, hue='Label')\n",
        "plt.show()"
      ],
      "metadata": {
        "colab": {
          "base_uri": "https://localhost:8080/",
          "height": 513
        },
        "id": "lGhFbppTSvGK",
        "outputId": "d22327f5-7bf7-4f12-84c1-41a4daa7973e"
      },
      "execution_count": 24,
      "outputs": [
        {
          "output_type": "display_data",
          "data": {
            "text/plain": [
              "<Figure size 624.25x500 with 6 Axes>"
            ],
            "image/png": "[encoded data removed]"
          },
          "metadata": {}
        }
      ]
    },
    {
      "cell_type": "code",
      "source": [
        "sns.pairplot(phishing_data)\n",
        "plt.show()"
      ],
      "metadata": {
        "colab": {
          "base_uri": "https://localhost:8080/",
          "height": 513
        },
        "id": "6sASycLSTF1r",
        "outputId": "97fa41a7-a8c5-4f02-9e25-f6ef9e36ce9d"
      },
      "execution_count": 27,
      "outputs": [
        {
          "output_type": "display_data",
          "data": {
            "text/plain": [
              "<Figure size 500x500 with 6 Axes>"
            ],
            "image/png": "[encoded data removed]"
          },
          "metadata": {}
        }
      ]
    },
    {
      "cell_type": "code",
      "source": [
        "phishing_data.loc[:, column] = label_encoder.fit_transform(phishing_data[column])\n"
      ],
      "metadata": {
        "id": "P1ypclISTze_"
      },
      "execution_count": 29,
      "outputs": []
    },
    {
      "cell_type": "code",
      "source": [
        "import pandas as pd\n",
        "from sklearn.preprocessing import LabelEncoder\n",
        "\n",
        "# Sample DataFrame\n",
        "phishing_data = pd.DataFrame({\n",
        "    'column_name': ['value1', 'value2', 'value1', 'value3']\n",
        "})\n",
        "\n",
        "label_encoder = LabelEncoder()\n",
        "for column in phishing_data.columns:\n",
        "    phishing_data.loc[:, column] = label_encoder.fit_transform(phishing_data[column])\n",
        "\n",
        "print(phishing_data)\n"
      ],
      "metadata": {
        "colab": {
          "base_uri": "https://localhost:8080/"
        },
        "id": "obC5HzrMT1Qu",
        "outputId": "5b77ff45-5eda-4929-eb66-fdae07800acd"
      },
      "execution_count": 31,
      "outputs": [
        {
          "output_type": "stream",
          "name": "stdout",
          "text": [
            "  column_name\n",
            "0           0\n",
            "1           1\n",
            "2           0\n",
            "3           2\n"
          ]
        }
      ]
    },
    {
      "cell_type": "code",
      "source": [
        "import pandas as pd\n",
        "from sklearn.ensemble import RandomForestClassifier\n",
        "from sklearn.model_selection import train_test_split\n",
        "\n",
        "# Sample DataFrame with feature names\n",
        "data = pd.DataFrame({\n",
        "    'feature1': [1, 2, 3, 4, 5],\n",
        "    'feature2': [5, 4, 3, 2, 1],\n",
        "    'label': [0, 1, 0, 1, 0]\n",
        "})\n",
        "\n",
        "X = data[['feature1', 'feature2']]\n",
        "y = data['label']\n",
        "\n",
        "# Splitting data for training\n",
        "X_train, X_test, y_train, y_test = train_test_split(X, y, test_size=0.2, random_state=42)\n",
        "\n",
        "# Train the model\n",
        "model = RandomForestClassifier()\n",
        "model.fit(X_train, y_train)\n",
        "\n",
        "# Preparing a new sample for prediction (with the same feature names)\n",
        "new_data = pd.DataFrame({\n",
        "    'feature1': [2],\n",
        "    'feature2': [3]\n",
        "})\n",
        "\n",
        "# Make predictions\n",
        "predictions = model.predict(new_data)\n",
        "print(\"Predictions:\", predictions)\n"
      ],
      "metadata": {
        "colab": {
          "base_uri": "https://localhost:8080/"
        },
        "id": "422JxzfyUNHJ",
        "outputId": "eeae8a48-fe5a-43ca-8f2e-8e9895f98ede"
      },
      "execution_count": 33,
      "outputs": [
        {
          "output_type": "stream",
          "name": "stdout",
          "text": [
            "Predictions: [0]\n"
          ]
        }
      ]
    },
    {
      "cell_type": "code",
      "source": [
        "print(X_test.shape)"
      ],
      "metadata": {
        "colab": {
          "base_uri": "https://localhost:8080/"
        },
        "id": "lkQ3jnuVUjZI",
        "outputId": "b5d38a4a-ca57-4f84-9b25-cf4d91f20a4c"
      },
      "execution_count": 36,
      "outputs": [
        {
          "output_type": "stream",
          "name": "stdout",
          "text": [
            "(1, 2)\n"
          ]
        }
      ]
    },
    {
      "cell_type": "code",
      "source": [
        "# Assume X_test has been defined and contains valid feature names\n",
        "import pandas as pd\n",
        "\n",
        "# Example of X_test with valid feature names\n",
        "X_test = pd.DataFrame({\n",
        "    'feature1': [1],\n",
        "    'feature2': [2]\n",
        "})\n",
        "\n",
        "# Example auto flagging function (adjust based on your logic)\n",
        "def auto_flagging_system(sample_email_data):\n",
        "    # Assuming your model variable is named 'model'\n",
        "    prediction = model.predict(sample_email_data)\n",
        "    if prediction[0] == 0:\n",
        "        return \"Low Risk: No immediate action.\"\n",
        "    else:\n",
        "        return \"High Risk: Immediate action required.\"\n",
        "\n",
        "# Call the function with the valid DataFrame\n",
        "print(auto_flagging_system(X_test))\n"
      ],
      "metadata": {
        "colab": {
          "base_uri": "https://localhost:8080/"
        },
        "id": "ktvx2waiU1nX",
        "outputId": "f0c5e9c8-dadf-45ee-a878-56ace554f8d9"
      },
      "execution_count": 38,
      "outputs": [
        {
          "output_type": "stream",
          "name": "stdout",
          "text": [
            "Low Risk: No immediate action.\n"
          ]
        }
      ]
    },
    {
      "cell_type": "code",
      "source": [
        "# Display the column names of the dataset\n",
        "print(phishing_data.columns)\n"
      ],
      "metadata": {
        "colab": {
          "base_uri": "https://localhost:8080/"
        },
        "id": "yzy0kpwsWIUC",
        "outputId": "14136f25-34e6-4665-93e0-91569ddbfe87"
      },
      "execution_count": 40,
      "outputs": [
        {
          "output_type": "stream",
          "name": "stdout",
          "text": [
            "Index(['column_name'], dtype='object')\n"
          ]
        }
      ]
    },
    {
      "cell_type": "markdown",
      "source": [],
      "metadata": {
        "id": "xyISiT_SWmHu"
      }
    },
    {
      "cell_type": "code",
      "source": [
        "phishing_data = pd.read_csv('/content/drive/MyDrive/DA/DA Assignment/Phishing_Email_Dataset_Ucl.csv', delimiter=',')  # or try delimiter=';'\n"
      ],
      "metadata": {
        "id": "sq3RF7EyWbEm"
      },
      "execution_count": 43,
      "outputs": []
    },
    {
      "cell_type": "code",
      "source": [
        "# Display all column names in phishing_data\n",
        "print(phishing_data.columns)\n"
      ],
      "metadata": {
        "colab": {
          "base_uri": "https://localhost:8080/"
        },
        "id": "aKssrj0uXzNY",
        "outputId": "b6786beb-bf84-4d50-d84d-a25c63457bfe"
      },
      "execution_count": 48,
      "outputs": [
        {
          "output_type": "stream",
          "name": "stdout",
          "text": [
            "Index(['Email ID', 'Timestamp', 'Sender Email', 'Recipient Email', 'Subject',\n",
            "       'Email Body', 'Label', 'IP Address', 'Location', 'Sender Domain',\n",
            "       'Recipient Domain', 'Email Length', 'Attachments', 'Link Count',\n",
            "       'Suspicious Keywords', 'Sector'],\n",
            "      dtype='object')\n"
          ]
        }
      ]
    },
    {
      "cell_type": "code",
      "source": [
        "phishing_data = phishing_data.dropna()\n"
      ],
      "metadata": {
        "id": "5eIxwhx2YqZD"
      },
      "execution_count": 53,
      "outputs": []
    },
    {
      "cell_type": "code",
      "source": [
        "\n",
        "\n",
        "# Convert 'Email Length' and 'Link Count' to numeric, forcing errors to NaN\n",
        "phishing_data['Email Length'] = pd.to_numeric(phishing_data['Email Length'], errors='coerce')\n",
        "phishing_data['Link Count'] = pd.to_numeric(phishing_data['Link Count'], errors='coerce')\n",
        "\n",
        "# Verify the data types after conversion\n",
        "print(phishing_data.dtypes)\n"
      ],
      "metadata": {
        "colab": {
          "base_uri": "https://localhost:8080/"
        },
        "id": "79UxMvJzZM31",
        "outputId": "2840f11e-cecb-4cb1-d5a0-c88786482c88"
      },
      "execution_count": 57,
      "outputs": [
        {
          "output_type": "stream",
          "name": "stdout",
          "text": [
            "Email ID                object\n",
            "Timestamp               object\n",
            "Sender Email            object\n",
            "Recipient Email         object\n",
            "Subject                 object\n",
            "Email Body              object\n",
            "Label                   object\n",
            "IP Address              object\n",
            "Location                object\n",
            "Sender Domain           object\n",
            "Recipient Domain        object\n",
            "Email Length             int64\n",
            "Attachments             object\n",
            "Link Count             float64\n",
            "Suspicious Keywords     object\n",
            "Sector                  object\n",
            "dtype: object\n"
          ]
        },
        {
          "output_type": "stream",
          "name": "stderr",
          "text": [
            "<ipython-input-57-7b1e10af7d37>:2: SettingWithCopyWarning: \n",
            "A value is trying to be set on a copy of a slice from a DataFrame.\n",
            "Try using .loc[row_indexer,col_indexer] = value instead\n",
            "\n",
            "See the caveats in the documentation: https://pandas.pydata.org/pandas-docs/stable/user_guide/indexing.html#returning-a-view-versus-a-copy\n",
            "  phishing_data['Email Length'] = pd.to_numeric(phishing_data['Email Length'], errors='coerce')\n",
            "<ipython-input-57-7b1e10af7d37>:3: SettingWithCopyWarning: \n",
            "A value is trying to be set on a copy of a slice from a DataFrame.\n",
            "Try using .loc[row_indexer,col_indexer] = value instead\n",
            "\n",
            "See the caveats in the documentation: https://pandas.pydata.org/pandas-docs/stable/user_guide/indexing.html#returning-a-view-versus-a-copy\n",
            "  phishing_data['Link Count'] = pd.to_numeric(phishing_data['Link Count'], errors='coerce')\n"
          ]
        }
      ]
    },
    {
      "cell_type": "code",
      "source": [
        "# Convert 'Email Length' and 'Link Count' to numeric using .loc to avoid SettingWithCopyWarning\n",
        "phishing_data.loc[:, 'Email Length'] = pd.to_numeric(phishing_data['Email Length'], errors='coerce')\n",
        "phishing_data.loc[:, 'Link Count'] = pd.to_numeric(phishing_data['Link Count'], errors='coerce')\n",
        "\n",
        "# Verify the data types after conversion\n",
        "print(phishing_data.dtypes)\n"
      ],
      "metadata": {
        "colab": {
          "base_uri": "https://localhost:8080/"
        },
        "id": "lKFqZQxpZXY4",
        "outputId": "b3206676-49a1-4908-bd04-e905b4a88407"
      },
      "execution_count": 58,
      "outputs": [
        {
          "output_type": "stream",
          "name": "stdout",
          "text": [
            "Email ID                object\n",
            "Timestamp               object\n",
            "Sender Email            object\n",
            "Recipient Email         object\n",
            "Subject                 object\n",
            "Email Body              object\n",
            "Label                   object\n",
            "IP Address              object\n",
            "Location                object\n",
            "Sender Domain           object\n",
            "Recipient Domain        object\n",
            "Email Length             int64\n",
            "Attachments             object\n",
            "Link Count             float64\n",
            "Suspicious Keywords     object\n",
            "Sector                  object\n",
            "dtype: object\n"
          ]
        }
      ]
    },
    {
      "cell_type": "code",
      "source": [
        "# Check for missing values again\n",
        "print(phishing_data.isnull().sum())\n",
        "\n",
        "from sklearn.impute import SimpleImputer\n",
        "\n",
        "# Use mean imputation for the numerical columns\n",
        "imputer = SimpleImputer(strategy='mean')\n",
        "phishing_data.loc[:, ['Email Length', 'Link Count']] = imputer.fit_transform(phishing_data[['Email Length', 'Link Count']])\n",
        "\n",
        "# Verify that there are no missing values\n",
        "print(phishing_data.isnull().sum().sum())  # Should print 0\n"
      ],
      "metadata": {
        "colab": {
          "base_uri": "https://localhost:8080/"
        },
        "id": "ZZ8_BtSsZZ1K",
        "outputId": "2a7dba77-ca9d-4498-f0c1-e806e2160e0a"
      },
      "execution_count": 59,
      "outputs": [
        {
          "output_type": "stream",
          "name": "stdout",
          "text": [
            "Email ID               0\n",
            "Timestamp              0\n",
            "Sender Email           0\n",
            "Recipient Email        0\n",
            "Subject                0\n",
            "Email Body             0\n",
            "Label                  0\n",
            "IP Address             0\n",
            "Location               0\n",
            "Sender Domain          0\n",
            "Recipient Domain       0\n",
            "Email Length           0\n",
            "Attachments            0\n",
            "Link Count             2\n",
            "Suspicious Keywords    0\n",
            "Sector                 0\n",
            "dtype: int64\n",
            "0\n"
          ]
        }
      ]
    },
    {
      "source": [
        "import pandas as pd\n",
        "import pandas as pd\n",
        "from sklearn.model_selection import train_test_split\n",
        "from imblearn.over_sampling import SMOTE\n",
        "from sklearn import preprocessing"
      ],
      "cell_type": "code",
      "metadata": {
        "id": "qgAvZrAWZ4Pd"
      },
      "execution_count": 63,
      "outputs": []
    },
    {
      "cell_type": "code",
      "source": [],
      "metadata": {
        "id": "M-xBWf40aA0Q"
      },
      "execution_count": null,
      "outputs": []
    }
  ]
}